{
 "cells": [
  {
   "cell_type": "markdown",
   "id": "7f18e9b8431ea99b",
   "metadata": {},
   "source": [
    "# Aufgabe 2"
   ]
  },
  {
   "cell_type": "code",
   "execution_count": 1,
   "id": "5fcede1340b5d1fb",
   "metadata": {
    "ExecuteTime": {
     "end_time": "2025-07-28T06:31:11.546782Z",
     "start_time": "2025-07-28T06:31:10.745219Z"
    }
   },
   "outputs": [
    {
     "name": "stdout",
     "output_type": "stream",
     "text": [
      "[ 2. -2.]\n",
      "[ 0.9911 -0.487 ]\n",
      "[-8.08900001 13.13000002]\n",
      "[-98.89000015 149.30000023]\n",
      "[-1006.90000156  1511.00000235]\n"
     ]
    }
   ],
   "source": [
    "import numpy as np\n",
    "\n",
    "a = [[1.2969, 0.8648], [0.2161, 0.1441]]\n",
    "\n",
    "b_1 = [0.8642, 0.1440]\n",
    "b_2 = [0.86419999, 0.14400001]\n",
    "b_3 = [0.8641999, 0.1440001]\n",
    "b_4 = [0.864199, 0.144001]\n",
    "b_5 = [0.86419, 0.14401]\n",
    "\n",
    "b_s = [b_1, b_2, b_3, b_4, b_5]\n",
    "\n",
    "for b in b_s:\n",
    "    print(np.linalg.solve(a, b))"
   ]
  },
  {
   "cell_type": "markdown",
   "id": "adf3803f-6490-444d-a6ab-470cc1b2693d",
   "metadata": {},
   "source": [
    "Man sieht eine sehr starke Abweichung der Lösungen mit b2 bis b5 von der Lösung mit b1, wobei die Abweichung der Lösungen immer weiter zunimmt, je weiter die Eingangswerte von b1 abweichen."
   ]
  },
  {
   "cell_type": "markdown",
   "id": "3aa4a90f-9ee6-47b9-bf79-8ddce1a93b88",
   "metadata": {},
   "source": [
    "Genauer:\n",
    "\n",
    "Abweichung b2: \n",
    "\n",
    "$$\n",
    "x: \\frac{2 - 0.9911}{2} ≈ 0.504 = 50,4 \\%\n",
    "$$\n",
    "\n",
    "$$\n",
    "y: \\frac{-2 - (-0.487)}{-2} ≈ 0,757 = 75,7 \\%\n",
    "$$\n",
    "\n",
    "Abweichung b5:\n",
    "$$\n",
    "x: \\frac{2 - (-1006.9)}{2} ≈ 504.45 = 50445 \\%\n",
    "$$\n",
    "\n",
    "$$\n",
    "y: \\frac{-2 - 1511}{-2} ≈ 756,5 = 75650 \\%\n",
    "$$"
   ]
  },
  {
   "cell_type": "markdown",
   "id": "c8f25a8a-c5a9-4333-9f53-18103937ec65",
   "metadata": {},
   "source": [
    "# Aufgabe 3"
   ]
  },
  {
   "cell_type": "markdown",
   "id": "53dfde49-62cf-4178-8e64-340f2330f5bd",
   "metadata": {},
   "source": [
    "$$\n",
    "f(x) = \\frac{tan(x) - x}{x^3}\n",
    "$$"
   ]
  },
  {
   "cell_type": "markdown",
   "id": "f988e2b9-148c-4eed-b36f-549249b43a5a",
   "metadata": {},
   "source": [
    "## Grenzwert x → 0"
   ]
  },
  {
   "metadata": {},
   "cell_type": "markdown",
   "source": "![image](limes_handwriting.png)",
   "id": "eb7149c31f69e2e9"
  },
  {
   "cell_type": "markdown",
   "id": "4279d62c-7ce8-412d-a2b5-fa57ed97cefd",
   "metadata": {},
   "source": [
    "## Numerische Bestimmung mit immer kleineren x"
   ]
  },
  {
   "cell_type": "code",
   "id": "69bbab9c-1a88-4b30-a9fe-448cce6055d1",
   "metadata": {
    "ExecuteTime": {
     "end_time": "2025-07-28T17:52:57.528766Z",
     "start_time": "2025-07-28T17:52:56.449643Z"
    }
   },
   "source": [
    "import numpy as np\n",
    "\n",
    "def f(x: float):\n",
    "    return (np.tan(x) -x) / np.power(x, 3)\n",
    "\n",
    "for k in range(1, 11):\n",
    "    print(f(1 / np.power(10, k)))"
   ],
   "outputs": [
    {
     "name": "stdout",
     "output_type": "stream",
     "text": [
      "0.33467208545054355\n",
      "0.33334666720702394\n",
      "0.33333346673158903\n",
      "0.33333333651890806\n",
      "0.3333328757329847\n",
      "0.33330746474456724\n",
      "0.3308722450212111\n",
      "0.0\n",
      "0.0\n",
      "0.0\n"
     ]
    }
   ],
   "execution_count": 1
  },
  {
   "cell_type": "markdown",
   "id": "1cf750ad-0477-47de-b873-7eed4fdf2c42",
   "metadata": {},
   "source": [
    "## Grund für Instabilität"
   ]
  },
  {
   "cell_type": "markdown",
   "id": "1302d853-b1fd-4e7b-b4e5-f7d6652a21bb",
   "metadata": {},
   "source": [
    "Man sieht, dass für kleine x zunächst relativ genau der tatsächliche Grenzwert der Funktion f ermittelt werden kann. Doch bei immer kleiner werdenden x-Werten wird irgendwann der Punkt erreicht, bei dem mit dem numerischen Verfahren das Ergebnis 0 errechnet wird. Das hängt mit dem Aufbau der Funktion f und der Rundung zusammen. \n",
    "\n",
    "Sowohl tan(x) als auch x wird gegen null immer kleiner, sodass die Differenz ebenfalls immer kleiner wird. Beim numerischen Verfahren geht zwangsweise irgendwann, durch Rundung, der immer kleiner werdende Unterschied zwischen den beiden Werten verloren. Sobald diese nicht mehr unterschieden werden können, also wenn praktisch gilt: \n",
    "\n",
    "$$\n",
    "tan(x) = x\n",
    "$$\n",
    "\n",
    "Ist die Differenz der Werte im Nenner null und somit der numerisch errechnete Grenzwert ebenfalls null.\n",
    "\n",
    "Das führt zu einer Instabilität, weil ab einem bestimmten Punkt bei kleiner werdenden x-Werten plötzlich eine starke Abweichung von der tatsächlichen Lösung entsteht."
   ]
  }
 ],
 "metadata": {
  "kernelspec": {
   "display_name": "Python 3 (ipykernel)",
   "language": "python",
   "name": "python3"
  },
  "language_info": {
   "codemirror_mode": {
    "name": "ipython",
    "version": 3
   },
   "file_extension": ".py",
   "mimetype": "text/x-python",
   "name": "python",
   "nbconvert_exporter": "python",
   "pygments_lexer": "ipython3",
   "version": "3.13.1"
  }
 },
 "nbformat": 4,
 "nbformat_minor": 5
}
