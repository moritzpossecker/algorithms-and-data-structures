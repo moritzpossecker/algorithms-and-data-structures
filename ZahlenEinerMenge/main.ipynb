{
 "cells": [
  {
   "metadata": {},
   "cell_type": "markdown",
   "source": "# Zahlen der Menge F(3, 3, -2, 2)",
   "id": "c29d3815ca000326"
  },
  {
   "metadata": {
    "ExecuteTime": {
     "end_time": "2025-07-23T06:24:11.528725Z",
     "start_time": "2025-07-23T06:24:11.512241Z"
    }
   },
   "cell_type": "code",
   "source": "F = (3, 3, -2, 2)",
   "id": "38cbf629fbf23bd5",
   "outputs": [],
   "execution_count": 108
  },
  {
   "metadata": {},
   "cell_type": "markdown",
   "source": [
    "F = (b, t, L, U)\n",
    "\n",
    "b ≙ Basis\n",
    "\n",
    "t ≙ Anzahl signifikanter Ziffern\n",
    "\n",
    "L bis U ≙ Exponentenbereich -> (U - L + 1) Anzahl möglicher Exponenten"
   ],
   "id": "8a9c51534bdcdc3b"
  },
  {
   "metadata": {
    "ExecuteTime": {
     "end_time": "2025-07-23T06:24:12.564562Z",
     "start_time": "2025-07-23T06:24:12.559121Z"
    }
   },
   "cell_type": "code",
   "source": [
    "b = F[0]\n",
    "t = F[1]\n",
    "L = F[2]\n",
    "U = F[3]"
   ],
   "id": "2ac1bf0fd03dbe82",
   "outputs": [],
   "execution_count": 109
  },
  {
   "metadata": {},
   "cell_type": "markdown",
   "source": "## Positive Zahlen der Menge F",
   "id": "c41fd1eab2b9c2a3"
  },
  {
   "metadata": {},
   "cell_type": "markdown",
   "source": "### Normalisiert",
   "id": "9a0951f758285879"
  },
  {
   "metadata": {
    "ExecuteTime": {
     "end_time": "2025-07-23T06:24:13.951468Z",
     "start_time": "2025-07-23T06:24:13.945017Z"
    }
   },
   "cell_type": "code",
   "source": [
    "normalized_mantissas = []\n",
    "number_of_possible_digit_combinations = b ** t\n",
    "\n",
    "for i in range(number_of_possible_digit_combinations):\n",
    "    num = ''\n",
    "    value = i\n",
    "    for _ in range(t):\n",
    "        digit = value % b\n",
    "        num = num + str(digit)\n",
    "        value = value // b\n",
    "    if num[0] != '0':\n",
    "        normalized_mantissas.append(num)"
   ],
   "id": "2e67e4bab43df186",
   "outputs": [],
   "execution_count": 110
  },
  {
   "metadata": {
    "ExecuteTime": {
     "end_time": "2025-07-23T06:24:14.441055Z",
     "start_time": "2025-07-23T06:24:14.432955Z"
    }
   },
   "cell_type": "code",
   "source": "normalized_mantissas",
   "id": "ff8aff51d79c89ad",
   "outputs": [
    {
     "data": {
      "text/plain": [
       "['100',\n",
       " '200',\n",
       " '110',\n",
       " '210',\n",
       " '120',\n",
       " '220',\n",
       " '101',\n",
       " '201',\n",
       " '111',\n",
       " '211',\n",
       " '121',\n",
       " '221',\n",
       " '102',\n",
       " '202',\n",
       " '112',\n",
       " '212',\n",
       " '122',\n",
       " '222']"
      ]
     },
     "execution_count": 111,
     "metadata": {},
     "output_type": "execute_result"
    }
   ],
   "execution_count": 111
  },
  {
   "metadata": {
    "ExecuteTime": {
     "end_time": "2025-07-23T06:24:15.103232Z",
     "start_time": "2025-07-23T06:24:15.097390Z"
    }
   },
   "cell_type": "code",
   "source": [
    "def base_b_fraction_to_decimal(digits_str, base):\n",
    "    \"\"\"Konvertiert eine Mantisse wie '222' in Dezimalzahl bei Basis b\"\"\"\n",
    "    return sum(int(d) * base ** -(j + 1) for j, d in enumerate(digits_str))"
   ],
   "id": "93a297f874ad86a0",
   "outputs": [],
   "execution_count": 112
  },
  {
   "metadata": {
    "ExecuteTime": {
     "end_time": "2025-07-23T06:24:15.719862Z",
     "start_time": "2025-07-23T06:24:15.713562Z"
    }
   },
   "cell_type": "code",
   "source": [
    "normalized_nums = []\n",
    "\n",
    "for exponent in range(L, U + 1):\n",
    "    for mantissa in normalized_mantissas:\n",
    "        mantissa_value = base_b_fraction_to_decimal(mantissa, b)\n",
    "        normalized_nums.append(mantissa_value * (b ** exponent))"
   ],
   "id": "34c363cb64d68ada",
   "outputs": [],
   "execution_count": 113
  },
  {
   "metadata": {},
   "cell_type": "markdown",
   "source": "normalisierte positive Zahlen der Menge F:",
   "id": "648d0f39105e81e3"
  },
  {
   "metadata": {
    "ExecuteTime": {
     "end_time": "2025-07-23T06:24:17.214236Z",
     "start_time": "2025-07-23T06:24:17.207717Z"
    }
   },
   "cell_type": "code",
   "source": "normalized_nums",
   "id": "767d908dc8f12638",
   "outputs": [
    {
     "data": {
      "text/plain": [
       "[0.037037037037037035,\n",
       " 0.07407407407407407,\n",
       " 0.04938271604938271,\n",
       " 0.08641975308641973,\n",
       " 0.06172839506172839,\n",
       " 0.09876543209876543,\n",
       " 0.04115226337448559,\n",
       " 0.07818930041152262,\n",
       " 0.05349794238683127,\n",
       " 0.0905349794238683,\n",
       " 0.06584362139917695,\n",
       " 0.10288065843621397,\n",
       " 0.04526748971193415,\n",
       " 0.08230452674897118,\n",
       " 0.05761316872427983,\n",
       " 0.09465020576131687,\n",
       " 0.0699588477366255,\n",
       " 0.10699588477366254,\n",
       " 0.1111111111111111,\n",
       " 0.2222222222222222,\n",
       " 0.14814814814814814,\n",
       " 0.2592592592592592,\n",
       " 0.18518518518518517,\n",
       " 0.2962962962962963,\n",
       " 0.12345679012345678,\n",
       " 0.2345679012345679,\n",
       " 0.16049382716049382,\n",
       " 0.2716049382716049,\n",
       " 0.19753086419753085,\n",
       " 0.3086419753086419,\n",
       " 0.13580246913580246,\n",
       " 0.24691358024691357,\n",
       " 0.1728395061728395,\n",
       " 0.2839506172839506,\n",
       " 0.2098765432098765,\n",
       " 0.32098765432098764,\n",
       " 0.3333333333333333,\n",
       " 0.6666666666666666,\n",
       " 0.4444444444444444,\n",
       " 0.7777777777777777,\n",
       " 0.5555555555555556,\n",
       " 0.8888888888888888,\n",
       " 0.37037037037037035,\n",
       " 0.7037037037037037,\n",
       " 0.48148148148148145,\n",
       " 0.8148148148148148,\n",
       " 0.5925925925925926,\n",
       " 0.9259259259259258,\n",
       " 0.4074074074074074,\n",
       " 0.7407407407407407,\n",
       " 0.5185185185185185,\n",
       " 0.8518518518518519,\n",
       " 0.6296296296296295,\n",
       " 0.9629629629629629,\n",
       " 1.0,\n",
       " 2.0,\n",
       " 1.3333333333333333,\n",
       " 2.333333333333333,\n",
       " 1.6666666666666667,\n",
       " 2.6666666666666665,\n",
       " 1.1111111111111112,\n",
       " 2.111111111111111,\n",
       " 1.4444444444444444,\n",
       " 2.444444444444444,\n",
       " 1.7777777777777777,\n",
       " 2.7777777777777777,\n",
       " 1.222222222222222,\n",
       " 2.2222222222222223,\n",
       " 1.5555555555555554,\n",
       " 2.5555555555555554,\n",
       " 1.8888888888888886,\n",
       " 2.888888888888889,\n",
       " 3.0,\n",
       " 6.0,\n",
       " 4.0,\n",
       " 6.999999999999999,\n",
       " 5.0,\n",
       " 8.0,\n",
       " 3.333333333333333,\n",
       " 6.333333333333334,\n",
       " 4.333333333333333,\n",
       " 7.333333333333333,\n",
       " 5.333333333333333,\n",
       " 8.333333333333332,\n",
       " 3.6666666666666665,\n",
       " 6.666666666666666,\n",
       " 4.666666666666666,\n",
       " 7.666666666666667,\n",
       " 5.666666666666666,\n",
       " 8.666666666666666]"
      ]
     },
     "execution_count": 114,
     "metadata": {},
     "output_type": "execute_result"
    }
   ],
   "execution_count": 114
  },
  {
   "metadata": {},
   "cell_type": "markdown",
   "source": "Anzahl der normalisierten positiven Zahlen der Menge F:",
   "id": "dbc0ee90da8181f4"
  },
  {
   "metadata": {
    "ExecuteTime": {
     "end_time": "2025-07-23T06:24:18.733355Z",
     "start_time": "2025-07-23T06:24:18.727565Z"
    }
   },
   "cell_type": "code",
   "source": "len(normalized_nums)",
   "id": "76dfd010cc0d8245",
   "outputs": [
    {
     "data": {
      "text/plain": [
       "90"
      ]
     },
     "execution_count": 115,
     "metadata": {},
     "output_type": "execute_result"
    }
   ],
   "execution_count": 115
  },
  {
   "metadata": {},
   "cell_type": "markdown",
   "source": "### Nicht-Normalisiert",
   "id": "489538d4174987b3"
  },
  {
   "metadata": {
    "ExecuteTime": {
     "end_time": "2025-07-23T06:24:19.991378Z",
     "start_time": "2025-07-23T06:24:19.984826Z"
    }
   },
   "cell_type": "code",
   "source": [
    "not_normalized_mantissas = []\n",
    "number_of_possible_digit_combinations = b ** t\n",
    "\n",
    "for i in range(number_of_possible_digit_combinations):\n",
    "    num = ''\n",
    "    value = i\n",
    "    for _ in range(t):\n",
    "        digit = value % b\n",
    "        num = num + str(digit)\n",
    "        value = value // b\n",
    "    if num[0] == '0' and num != '0' * t:\n",
    "        not_normalized_mantissas.append(num)"
   ],
   "id": "b6041f0c5d09accf",
   "outputs": [],
   "execution_count": 116
  },
  {
   "metadata": {
    "ExecuteTime": {
     "end_time": "2025-07-23T06:24:20.581966Z",
     "start_time": "2025-07-23T06:24:20.575565Z"
    }
   },
   "cell_type": "code",
   "source": "not_normalized_mantissas",
   "id": "ffbae1ce42683046",
   "outputs": [
    {
     "data": {
      "text/plain": [
       "['010', '020', '001', '011', '021', '002', '012', '022']"
      ]
     },
     "execution_count": 117,
     "metadata": {},
     "output_type": "execute_result"
    }
   ],
   "execution_count": 117
  },
  {
   "metadata": {
    "ExecuteTime": {
     "end_time": "2025-07-23T06:24:21.215376Z",
     "start_time": "2025-07-23T06:24:21.209899Z"
    }
   },
   "cell_type": "code",
   "source": [
    "not_normalized_nums = []\n",
    "\n",
    "for mantissa in not_normalized_mantissas:\n",
    "    mantissa_value = base_b_fraction_to_decimal(mantissa, b)\n",
    "    not_normalized_nums.append(mantissa_value * (b ** L))"
   ],
   "id": "a358f15535108433",
   "outputs": [],
   "execution_count": 118
  },
  {
   "metadata": {},
   "cell_type": "markdown",
   "source": "nicht-normalisierte positive Zahlen der Menge F:",
   "id": "d4accd1942649276"
  },
  {
   "metadata": {
    "ExecuteTime": {
     "end_time": "2025-07-23T06:24:23.514572Z",
     "start_time": "2025-07-23T06:24:23.508661Z"
    }
   },
   "cell_type": "code",
   "source": "not_normalized_nums",
   "id": "380579d93026f10c",
   "outputs": [
    {
     "data": {
      "text/plain": [
       "[0.012345679012345678,\n",
       " 0.024691358024691357,\n",
       " 0.004115226337448559,\n",
       " 0.016460905349794237,\n",
       " 0.028806584362139915,\n",
       " 0.008230452674897118,\n",
       " 0.020576131687242795,\n",
       " 0.03292181069958847]"
      ]
     },
     "execution_count": 119,
     "metadata": {},
     "output_type": "execute_result"
    }
   ],
   "execution_count": 119
  },
  {
   "metadata": {},
   "cell_type": "markdown",
   "source": "Anzahl der nicht-normalisierten positiven Zahlen der Menge F:",
   "id": "64d2c895f737a754"
  },
  {
   "metadata": {
    "ExecuteTime": {
     "end_time": "2025-07-23T06:24:25.104761Z",
     "start_time": "2025-07-23T06:24:25.098738Z"
    }
   },
   "cell_type": "code",
   "source": "len(not_normalized_nums)",
   "id": "fd0bec12d89902c3",
   "outputs": [
    {
     "data": {
      "text/plain": [
       "8"
      ]
     },
     "execution_count": 120,
     "metadata": {},
     "output_type": "execute_result"
    }
   ],
   "execution_count": 120
  },
  {
   "metadata": {},
   "cell_type": "code",
   "outputs": [],
   "execution_count": null,
   "source": "",
   "id": "94cd938ca4f75bc3"
  }
 ],
 "metadata": {
  "kernelspec": {
   "display_name": "Python 3",
   "language": "python",
   "name": "python3"
  },
  "language_info": {
   "codemirror_mode": {
    "name": "ipython",
    "version": 2
   },
   "file_extension": ".py",
   "mimetype": "text/x-python",
   "name": "python",
   "nbconvert_exporter": "python",
   "pygments_lexer": "ipython2",
   "version": "2.7.6"
  }
 },
 "nbformat": 4,
 "nbformat_minor": 5
}
